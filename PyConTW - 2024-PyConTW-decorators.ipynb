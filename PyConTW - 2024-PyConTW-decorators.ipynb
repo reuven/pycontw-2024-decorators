{
 "cells": [
  {
   "cell_type": "markdown",
   "metadata": {},
   "source": [
    "# Agenda\n",
    "\n",
    "1. What are decorators, and how do they work?\n",
    "2. Writing a simple timing decorator\n",
    "3. Using the outer function for storage"
   ]
  },
  {
   "cell_type": "markdown",
   "metadata": {},
   "source": [
    "https://github.com/reuven\n",
    "\n",
    "https://github.com/reuven/pycontw-2024-decorators%202024-PyConTW-decorators.ipynb"
   ]
  },
  {
   "cell_type": "markdown",
   "metadata": {},
   "source": [
    "# DRY -- don't repeat yourself\n",
    "\n"
   ]
  },
  {
   "cell_type": "code",
   "execution_count": 1,
   "metadata": {},
   "outputs": [
    {
     "name": "stdout",
     "output_type": "stream",
     "text": [
      "a!\n",
      "\n",
      "b!\n",
      "\n"
     ]
    }
   ],
   "source": [
    "def a():\n",
    "    return f'a!\\n'\n",
    "\n",
    "def b():\n",
    "    return f'b!\\n'\n",
    "\n",
    "print(a())\n",
    "print(b())"
   ]
  },
  {
   "cell_type": "code",
   "execution_count": 2,
   "metadata": {},
   "outputs": [
    {
     "name": "stdout",
     "output_type": "stream",
     "text": [
      "------------------------------------------------------------\n",
      "a!\n",
      "------------------------------------------------------------\n",
      "\n",
      "------------------------------------------------------------\n",
      "b!\n",
      "------------------------------------------------------------\n",
      "\n"
     ]
    }
   ],
   "source": [
    "# Fix #1: Add the lines with variables and explicit interpolation\n",
    "\n",
    "lines = '-' * 60 + '\\n'\n",
    "\n",
    "def a():\n",
    "    return f'{lines}a!\\n{lines}'\n",
    "\n",
    "def b():\n",
    "    return f'{lines}b!\\n{lines}'\n",
    "\n",
    "print(a())\n",
    "print(b())"
   ]
  },
  {
   "cell_type": "code",
   "execution_count": 3,
   "metadata": {},
   "outputs": [
    {
     "name": "stdout",
     "output_type": "stream",
     "text": [
      "------------------------------------------------------------\n",
      "a!\n",
      "------------------------------------------------------------\n",
      "\n",
      "------------------------------------------------------------\n",
      "b!\n",
      "------------------------------------------------------------\n",
      "\n"
     ]
    }
   ],
   "source": [
    "# Fix #2: Instead of calling our function directly,\n",
    "# we will pass our function to another function which\n",
    "# will include the lines\n",
    "\n",
    "lines = '-' * 60 + '\\n'\n",
    "\n",
    "def with_lines(func):\n",
    "    return f'{lines}{func()}{lines}'\n",
    "\n",
    "def a():\n",
    "    return f'a!\\n'\n",
    "\n",
    "def b():\n",
    "    return f'b!\\n'\n",
    "\n",
    "print(with_lines(a))\n",
    "print(with_lines(b))"
   ]
  },
  {
   "cell_type": "code",
   "execution_count": 4,
   "metadata": {},
   "outputs": [
    {
     "name": "stdout",
     "output_type": "stream",
     "text": [
      "------------------------------------------------------------\n",
      "a!\n",
      "------------------------------------------------------------\n",
      "\n",
      "------------------------------------------------------------\n",
      "b!\n",
      "------------------------------------------------------------\n",
      "\n"
     ]
    }
   ],
   "source": [
    "# Fix #3: Have with_lines return a new function,\n",
    "# not a string. Calling this returned function\n",
    "# will then return the string we want\n",
    "\n",
    "lines = '-' * 60 + '\\n'\n",
    "\n",
    "def with_lines(func):\n",
    "    def wrapper():\n",
    "        return f'{lines}{func()}{lines}'\n",
    "    return wrapper\n",
    "\n",
    "def a():\n",
    "    return f'a!\\n'\n",
    "with_lines_a = with_lines(a)\n",
    "\n",
    "def b():\n",
    "    return f'b!\\n'\n",
    "with_lines_b = with_lines(b)\n",
    "\n",
    "print(with_lines_a())\n",
    "print(with_lines_b())"
   ]
  },
  {
   "cell_type": "code",
   "execution_count": 5,
   "metadata": {},
   "outputs": [
    {
     "name": "stdout",
     "output_type": "stream",
     "text": [
      "------------------------------------------------------------\n",
      "a!\n",
      "------------------------------------------------------------\n",
      "\n",
      "------------------------------------------------------------\n",
      "b!\n",
      "------------------------------------------------------------\n",
      "\n"
     ]
    }
   ],
   "source": [
    "# Fix #4: Instead of assigning to with_lines_a,\n",
    "# just assign to a.  Same for with_lines_b\n",
    "\n",
    "lines = '-' * 60 + '\\n'\n",
    "\n",
    "def with_lines(func):\n",
    "    def wrapper():\n",
    "        return f'{lines}{func()}{lines}'\n",
    "    return wrapper\n",
    "\n",
    "def a():\n",
    "    return f'a!\\n'\n",
    "a = with_lines(a)\n",
    "\n",
    "def b():\n",
    "    return f'b!\\n'\n",
    "b = with_lines(b)\n",
    "\n",
    "print(a())\n",
    "print(b())"
   ]
  },
  {
   "cell_type": "code",
   "execution_count": 6,
   "metadata": {},
   "outputs": [
    {
     "name": "stdout",
     "output_type": "stream",
     "text": [
      "------------------------------------------------------------\n",
      "a!\n",
      "------------------------------------------------------------\n",
      "\n",
      "------------------------------------------------------------\n",
      "b!\n",
      "------------------------------------------------------------\n",
      "\n"
     ]
    }
   ],
   "source": [
    "# Fix #5: Use decorator syntax\n",
    "\n",
    "lines = '-' * 60 + '\\n'\n",
    "\n",
    "def with_lines(func):\n",
    "    def wrapper():\n",
    "        return f'{lines}{func()}{lines}'\n",
    "    return wrapper\n",
    "\n",
    "@with_lines\n",
    "def a():\n",
    "    return f'a!\\n'\n",
    "# a = with_lines(a)\n",
    "\n",
    "@with_lines\n",
    "def b():\n",
    "    return f'b!\\n'\n",
    "# b = with_lines(b)\n",
    "\n",
    "print(a())\n",
    "print(b())"
   ]
  },
  {
   "cell_type": "markdown",
   "metadata": {},
   "source": [
    "# Summary of a decorator\n",
    "\n",
    "1. It's a function (the decorator, what we mention with @)\n",
    "2. That takes a function as an argument (the decorated function)\n",
    "3. And returns a function as a result (the inner function, called wrapper)\n",
    "4. That returned function (wrapper) replaces the orignal (decorated one)"
   ]
  },
  {
   "cell_type": "markdown",
   "metadata": {},
   "source": [
    "# Who cares?\n",
    "\n",
    "We now have a mechanism for hijacking a function (a) when it is defined and (b) when it is run, and we can replace either one of these stages with whatever we want.\n",
    "\n",
    "1. Replace a function if permissions are wrong\n",
    "2. Change the inputs\n",
    "3. Change the outputs\n",
    "4. Log information to another place\n",
    "5. "
   ]
  },
  {
   "cell_type": "code",
   "execution_count": 11,
   "metadata": {},
   "outputs": [
    {
     "name": "stdout",
     "output_type": "stream",
     "text": [
      "------------------------------------------------------------\n",
      "a!\n",
      "------------------------------------------------------------\n",
      "\n",
      "------------------------------------------------------------\n",
      "b!\n",
      "------------------------------------------------------------\n",
      "\n",
      "------------------------------------------------------------\n",
      "3 + 5 = 8\n",
      "------------------------------------------------------------\n",
      "\n"
     ]
    }
   ],
   "source": [
    "# let's add a new function to be decorated\n",
    "\n",
    "lines = '-' * 60 + '\\n'\n",
    "\n",
    "def with_lines(func):\n",
    "    def wrapper(*args):  # take any number of positional args\n",
    "        return f'{lines}{func(*args)}{lines}'  # unroll the args tuple into arguments\n",
    "    return wrapper\n",
    "\n",
    "@with_lines\n",
    "def a():\n",
    "    return f'a!\\n'\n",
    "\n",
    "@with_lines\n",
    "def b():\n",
    "    return f'b!\\n'\n",
    "\n",
    "@with_lines\n",
    "def add(first, second):\n",
    "    return f'{first} + {second} = {first+second}\\n'\n",
    "    \n",
    "print(a())\n",
    "print(b())\n",
    "print(add(3, 5))"
   ]
  },
  {
   "cell_type": "markdown",
   "metadata": {},
   "source": [
    "# Exercise\n",
    "\n",
    "Write a decorator that times how long it takes for a function to run. We'll call it `timefunc`. When we apply it to a function, the function runs normally and returns its normal result.\n",
    "\n",
    "However, we also calculate how much time it took for the function to run and write that information to a file, `timing.txt`.\n",
    "\n",
    "You can get the current Unix time (number of seconds since Jan 1, 1970) with `time.time()`.\n",
    "\n",
    "If you need a slow function or two, you can use something like this:\n",
    "\n",
    "```python\n",
    "def slow_add(first, second):\n",
    "    time.sleep(random.randint(0, 3))\n",
    "    return first + second\n",
    "\n",
    "def slow_mul(first, second):\n",
    "    time.sleep(random.randint(0, 3))\n",
    "    return first * second\n",
    "```\n",
    "\n",
    "    "
   ]
  },
  {
   "cell_type": "code",
   "execution_count": 16,
   "metadata": {},
   "outputs": [
    {
     "name": "stdout",
     "output_type": "stream",
     "text": [
      "5\n",
      "12\n",
      "11\n",
      "56\n"
     ]
    }
   ],
   "source": [
    "import random\n",
    "import time\n",
    "\n",
    "def timefunc(func):   # outer function / decorator, runs once per decoration\n",
    "    def wrapper(*args):   # inner function / called instead of our decorated func\n",
    "        start_time = time.time()\n",
    "        value = func(*args)\n",
    "        total_time = time.time() - start_time\n",
    "\n",
    "        # store the timing info to a file\n",
    "        with open('timing.txt', 'a') as f:\n",
    "            f.write(f'{func.__name__}\\t{start_time}\\t{total_time}\\n')\n",
    "        \n",
    "        return value\n",
    "    return wrapper   # don't forget this!\n",
    "\n",
    "@timefunc\n",
    "def slow_add(first, second):\n",
    "    time.sleep(random.randint(0, 3))\n",
    "    return first + second\n",
    "\n",
    "@timefunc\n",
    "def slow_mul(first, second):\n",
    "    time.sleep(random.randint(0, 3))\n",
    "    return first * second\n",
    "\n",
    "print(slow_add(2, 3))\n",
    "print(slow_mul(3, 4))\n",
    "print(slow_add(5, 6))\n",
    "print(slow_mul(7, 8))"
   ]
  },
  {
   "cell_type": "code",
   "execution_count": 15,
   "metadata": {},
   "outputs": [
    {
     "name": "stdout",
     "output_type": "stream",
     "text": [
      "slow_add\t1726975475.8533509\t1.9311904907226562e-05\n",
      "slow_mul\t1726975475.854787\t1.4781951904296875e-05\n",
      "slow_add\t1726975475.85555\t2.004378080368042\n",
      "slow_mul\t1726975477.860867\t3.0010697841644287\n"
     ]
    }
   ],
   "source": [
    "!cat timing.txt"
   ]
  },
  {
   "cell_type": "markdown",
   "metadata": {},
   "source": [
    "# Caching\n",
    "\n",
    "There is a mechanism called `memoization` in which we look at the arguments to a function. If we have seen the arguments before, we don't actually run the function. Rather, we retrieve the previously returned value for those arguments.\n",
    "\n",
    "We can do this pretty easily with a decorator!\n",
    "\n"
   ]
  },
  {
   "cell_type": "code",
   "execution_count": 1,
   "metadata": {},
   "outputs": [
    {
     "name": "stdout",
     "output_type": "stream",
     "text": [
      "\tRunning slow_add with (2, 3), and caching the result\n",
      "5\n",
      "\tRunning slow_mul with (2, 3), and caching the result\n",
      "6\n",
      "\t(2, 3) was cached; using that value\n",
      "5\n",
      "\t(2, 3) was cached; using that value\n",
      "6\n"
     ]
    }
   ],
   "source": [
    "import random\n",
    "import time\n",
    "\n",
    "\n",
    "def memoize(func):   # outer function / decorator, runs once per decoration\n",
    "    cache = {}\n",
    "    def wrapper(*args):   # inner function / called instead of our decorated func\n",
    "        # check args, which is a tuple -- is it in our dict?\n",
    "        # if not, we run the function and store/cache the result in the dict\n",
    "        \n",
    "        if args not in cache:\n",
    "            print(f'\\tRunning {func.__name__} with {args}, and caching the result')\n",
    "            cache[args] = func(*args)  # run the function, and cache the result\n",
    "        else:\n",
    "            print(f'\\t{args} was cached; using that value')\n",
    "\n",
    "        # now I know that the result is in the cache\n",
    "        return cache[args]\n",
    "\n",
    "    return wrapper   # don't forget this!\n",
    "\n",
    "@memoize\n",
    "def slow_add(first, second):\n",
    "    time.sleep(random.randint(0, 3))\n",
    "    return first + second\n",
    "\n",
    "@memoize\n",
    "def slow_mul(first, second):\n",
    "    time.sleep(random.randint(0, 3))\n",
    "    return first * second\n",
    "\n",
    "print(slow_add(2, 3))\n",
    "print(slow_mul(2, 3))\n",
    "print(slow_add(2, 3))\n",
    "print(slow_mul(2, 3))"
   ]
  },
  {
   "cell_type": "code",
   "execution_count": 3,
   "metadata": {},
   "outputs": [
    {
     "data": {
      "text/plain": [
       "('cache', 'func')"
      ]
     },
     "execution_count": 3,
     "metadata": {},
     "output_type": "execute_result"
    }
   ],
   "source": [
    "slow_mul.__code__.co_freevars"
   ]
  },
  {
   "cell_type": "markdown",
   "metadata": {},
   "source": [
    "# Exercise: `once_per_minute`\n",
    "\n",
    "Write a decorator, `once_per_minute`, that when applied to a function, raises an exception when the function is called twice within a 60-second period.\n",
    "\n",
    "\n"
   ]
  },
  {
   "cell_type": "code",
   "execution_count": 7,
   "metadata": {},
   "outputs": [
    {
     "name": "stdout",
     "output_type": "stream",
     "text": [
      "5\n",
      "6\n"
     ]
    },
    {
     "ename": "CalledTooSoonError",
     "evalue": "Too soon!",
     "output_type": "error",
     "traceback": [
      "\u001b[0;31m---------------------------------------------------------------------------\u001b[0m",
      "\u001b[0;31mCalledTooSoonError\u001b[0m                        Traceback (most recent call last)",
      "Cell \u001b[0;32mIn[7], line 34\u001b[0m\n\u001b[1;32m     32\u001b[0m \u001b[38;5;28mprint\u001b[39m(slow_add(\u001b[38;5;241m2\u001b[39m, \u001b[38;5;241m3\u001b[39m))\n\u001b[1;32m     33\u001b[0m \u001b[38;5;28mprint\u001b[39m(slow_mul(\u001b[38;5;241m2\u001b[39m, \u001b[38;5;241m3\u001b[39m))\n\u001b[0;32m---> 34\u001b[0m \u001b[38;5;28mprint\u001b[39m(\u001b[43mslow_add\u001b[49m\u001b[43m(\u001b[49m\u001b[38;5;241;43m2\u001b[39;49m\u001b[43m,\u001b[49m\u001b[43m \u001b[49m\u001b[38;5;241;43m3\u001b[39;49m\u001b[43m)\u001b[49m)\n\u001b[1;32m     35\u001b[0m \u001b[38;5;28mprint\u001b[39m(slow_mul(\u001b[38;5;241m2\u001b[39m, \u001b[38;5;241m3\u001b[39m))\n",
      "Cell \u001b[0;32mIn[7], line 14\u001b[0m, in \u001b[0;36monce_per_minute.<locals>.wrapper\u001b[0;34m(*args)\u001b[0m\n\u001b[1;32m     12\u001b[0m current_time \u001b[38;5;241m=\u001b[39m time\u001b[38;5;241m.\u001b[39mtime()\n\u001b[1;32m     13\u001b[0m \u001b[38;5;28;01mif\u001b[39;00m current_time \u001b[38;5;241m-\u001b[39m last_called_at \u001b[38;5;241m<\u001b[39m \u001b[38;5;241m60\u001b[39m:  \u001b[38;5;66;03m# has <60 secs passed?\u001b[39;00m\n\u001b[0;32m---> 14\u001b[0m     \u001b[38;5;28;01mraise\u001b[39;00m CalledTooSoonError(\u001b[38;5;124m'\u001b[39m\u001b[38;5;124mToo soon!\u001b[39m\u001b[38;5;124m'\u001b[39m)\n\u001b[1;32m     16\u001b[0m \u001b[38;5;66;03m# otherwise...\u001b[39;00m\n\u001b[1;32m     17\u001b[0m last_called_at \u001b[38;5;241m=\u001b[39m current_time\n",
      "\u001b[0;31mCalledTooSoonError\u001b[0m: Too soon!"
     ]
    }
   ],
   "source": [
    "import random\n",
    "import time\n",
    "\n",
    "class CalledTooSoonError(Exception):\n",
    "    pass\n",
    "\n",
    "def once_per_minute(func):   # outer function / decorator, runs once per decoration\n",
    "    last_called_at = 0\n",
    "\n",
    "    def wrapper(*args):   # inner function / called instead of our decorated func\n",
    "        nonlocal last_called_at  # this means: we want to assign to this variable in the enclosing func\n",
    "        current_time = time.time()\n",
    "        if current_time - last_called_at < 60:  # has <60 secs passed?\n",
    "            raise CalledTooSoonError('Too soon!')\n",
    "\n",
    "        # otherwise...\n",
    "        last_called_at = current_time\n",
    "        return func(*args)\n",
    "\n",
    "    return wrapper   # don't forget this!\n",
    "\n",
    "@once_per_minute\n",
    "def slow_add(first, second):\n",
    "    time.sleep(random.randint(0, 3))\n",
    "    return first + second\n",
    "\n",
    "@once_per_minute\n",
    "def slow_mul(first, second):\n",
    "    time.sleep(random.randint(0, 3))\n",
    "    return first * second\n",
    "\n",
    "print(slow_add(2, 3))\n",
    "print(slow_mul(2, 3))\n",
    "print(slow_add(2, 3))\n",
    "print(slow_mul(2, 3))"
   ]
  },
  {
   "cell_type": "code",
   "execution_count": 8,
   "metadata": {},
   "outputs": [
    {
     "name": "stdout",
     "output_type": "stream",
     "text": [
      "Help on function wrapper in module __main__:\n",
      "\n",
      "wrapper(*args)\n",
      "\n"
     ]
    }
   ],
   "source": [
    "help(slow_add)"
   ]
  },
  {
   "cell_type": "code",
   "execution_count": 9,
   "metadata": {},
   "outputs": [
    {
     "name": "stdout",
     "output_type": "stream",
     "text": [
      "Help on function wrapper in module __main__:\n",
      "\n",
      "wrapper(*args)\n",
      "\n"
     ]
    }
   ],
   "source": [
    "help(slow_mul)"
   ]
  },
  {
   "cell_type": "code",
   "execution_count": null,
   "metadata": {},
   "outputs": [],
   "source": [
    "# I want to take the decorated function's signature and put it on the\n",
    "# wrapper that we used to replace it\n",
    "\n",
    "import random\n",
    "import time\n",
    "\n",
    "\n",
    "class CalledTooSoonError(Exception):\n",
    "    pass\n",
    "\n",
    "def once_per_minute(func):   # outer function / decorator, runs once per decoration\n",
    "    last_called_at = 0\n",
    "\n",
    "    def wrapper(*args):   # inner function / called instead of our decorated func\n",
    "        nonlocal last_called_at  # this means: we want to assign to this variable in the enclosing func\n",
    "        current_time = time.time()\n",
    "        if current_time - last_called_at < 60:  # has <60 secs passed?\n",
    "            raise CalledTooSoonError('Too soon!')\n",
    "\n",
    "        # otherwise...\n",
    "        last_called_at = current_time\n",
    "        return func(*args)\n",
    "\n",
    "    return wrapper   # don't forget this!\n",
    "\n",
    "@once_per_minute\n",
    "def slow_add(first, second):\n",
    "    time.sleep(random.randint(0, 3))\n",
    "    return first + second\n",
    "\n",
    "@once_per_minute\n",
    "def slow_mul(first, second):\n",
    "    time.sleep(random.randint(0, 3))\n",
    "    return first * second\n",
    "\n",
    "print(slow_add(2, 3))\n",
    "print(slow_mul(2, 3))\n",
    "print(slow_add(2, 3))\n",
    "print(slow_mul(2, 3))"
   ]
  }
 ],
 "metadata": {
  "kernelspec": {
   "display_name": "Python 3 (ipykernel)",
   "language": "python",
   "name": "python3"
  },
  "language_info": {
   "codemirror_mode": {
    "name": "ipython",
    "version": 3
   },
   "file_extension": ".py",
   "mimetype": "text/x-python",
   "name": "python",
   "nbconvert_exporter": "python",
   "pygments_lexer": "ipython3",
   "version": "3.12.2"
  },
  "widgets": {
   "application/vnd.jupyter.widget-state+json": {
    "state": {},
    "version_major": 2,
    "version_minor": 0
   }
  }
 },
 "nbformat": 4,
 "nbformat_minor": 4
}
